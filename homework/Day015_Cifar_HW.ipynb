{
 "cells": [
  {
   "cell_type": "markdown",
   "metadata": {},
   "source": [
    "## 『本次練習內容』\n",
    "#### 運用這幾天所學觀念搭建一個CNN分類器"
   ]
  },
  {
   "cell_type": "markdown",
   "metadata": {},
   "source": [
    "## 『本次練習目的』\n",
    "  #### 熟悉CNN分類器搭建步驟與原理\n",
    "  #### 學員們可以嘗試不同搭法，如使用不同的Maxpooling層，用GlobalAveragePooling取代Flatten等等"
   ]
  },
  {
   "cell_type": "code",
   "execution_count": 1,
   "metadata": {},
   "outputs": [],
   "source": [
    "from keras.models import Sequential\n",
    "from keras.layers import Conv2D\n",
    "from keras.layers import MaxPooling2D\n",
    "from keras.layers import Flatten\n",
    "from keras.layers import Dense\n",
    "from keras.layers import Dropout\n",
    "from keras.layers import BatchNormalization\n",
    "from keras.datasets import cifar10\n",
    "import numpy as np\n",
    "#import tensorflow as tf\n",
    "from sklearn.preprocessing import OneHotEncoder\n"
   ]
  },
  {
   "cell_type": "code",
   "execution_count": 2,
   "metadata": {},
   "outputs": [
    {
     "name": "stdout",
     "output_type": "stream",
     "text": [
      "(50000, 32, 32, 3)\n"
     ]
    }
   ],
   "source": [
    "(x_train, y_train), (x_test, y_test) = cifar10.load_data()\n",
    "\n",
    "print(x_train.shape) #(50000, 32, 32, 3)\n",
    "\n",
    "## Normalize Data\n",
    "def normalize(X_train,X_test):\n",
    "        mean = np.mean(X_train,axis=(0,1,2,3))\n",
    "        std = np.std(X_train, axis=(0, 1, 2, 3))\n",
    "        X_train = (X_train-mean)/(std+1e-7)\n",
    "        X_test = (X_test-mean)/(std+1e-7) \n",
    "        return X_train, X_test,mean,std\n",
    "    \n",
    "    \n",
    "## Normalize Training and Testset    \n",
    "x_train, x_test,mean_train,std_train = normalize(x_train, x_test) "
   ]
  },
  {
   "cell_type": "code",
   "execution_count": 4,
   "metadata": {},
   "outputs": [
    {
     "name": "stderr",
     "output_type": "stream",
     "text": [
      "Clipping input data to the valid range for imshow with RGB data ([0..1] for floats or [0..255] for integers).\n"
     ]
    },
    {
     "data": {
      "text/plain": [
       "<function matplotlib.pyplot.show(*args, **kw)>"
      ]
     },
     "execution_count": 4,
     "metadata": {},
     "output_type": "execute_result"
    },
    {
     "data": {
      "image/png": "[encoded data removed]",
      "text/plain": [
       "<Figure size 432x288 with 1 Axes>"
      ]
     },
     "metadata": {
      "needs_background": "light"
     },
     "output_type": "display_data"
    }
   ],
   "source": [
    "import matplotlib.pyplot as plt\n",
    "img=x_train[5,:,:,:]\n",
    "plt.imshow(img)\n",
    "plt.show"
   ]
  },
  {
   "cell_type": "code",
   "execution_count": 5,
   "metadata": {},
   "outputs": [
    {
     "name": "stderr",
     "output_type": "stream",
     "text": [
      "C:\\ProgramData\\Anaconda3\\lib\\site-packages\\sklearn\\preprocessing\\_encoders.py:415: FutureWarning: The handling of integer data will change in version 0.22. Currently, the categories are determined based on the range [0, max(values)], while in the future they will be determined based on the unique values.\n",
      "If you want the future behaviour and silence this warning, you can specify \"categories='auto'\".\n",
      "In case you used a LabelEncoder before this OneHotEncoder to convert the categories to integers, then you can now use the OneHotEncoder directly.\n",
      "  warnings.warn(msg, FutureWarning)\n"
     ]
    }
   ],
   "source": [
    "## OneHot Label 由(None, 1)-(None, 10)\n",
    "## ex. label=2,變成[0,0,1,0,0,0,0,0,0,0]\n",
    "one_hot=OneHotEncoder()\n",
    "y_train=one_hot.fit_transform(y_train).toarray()\n",
    "y_test=one_hot.transform(y_test).toarray()"
   ]
  },
  {
   "cell_type": "code",
   "execution_count": 6,
   "metadata": {},
   "outputs": [
    {
     "name": "stdout",
     "output_type": "stream",
     "text": [
      "[0. 0. 0. 0. 1. 0. 0. 0. 0. 0.]\n"
     ]
    }
   ],
   "source": [
    "print(y_train[3])"
   ]
  },
  {
   "cell_type": "code",
   "execution_count": 11,
   "metadata": {},
   "outputs": [
    {
     "name": "stdout",
     "output_type": "stream",
     "text": [
      "Model: \"sequential_3\"\n",
      "_________________________________________________________________\n",
      "Layer (type)                 Output Shape              Param #   \n",
      "=================================================================\n",
      "conv2d_5 (Conv2D)            (None, 30, 30, 64)        1792      \n",
      "_________________________________________________________________\n",
      "batch_normalization_5 (Batch (None, 30, 30, 64)        256       \n",
      "_________________________________________________________________\n",
      "conv2d_6 (Conv2D)            (None, 28, 28, 64)        36928     \n",
      "_________________________________________________________________\n",
      "batch_normalization_6 (Batch (None, 28, 28, 64)        256       \n",
      "_________________________________________________________________\n",
      "max_pooling2d_3 (MaxPooling2 (None, 14, 14, 64)        0         \n",
      "_________________________________________________________________\n",
      "dropout_1 (Dropout)          (None, 14, 14, 64)        0         \n",
      "_________________________________________________________________\n",
      "flatten_3 (Flatten)          (None, 12544)             0         \n",
      "_________________________________________________________________\n",
      "dense_5 (Dense)              (None, 512)               6423040   \n",
      "_________________________________________________________________\n",
      "dropout_2 (Dropout)          (None, 512)               0         \n",
      "_________________________________________________________________\n",
      "dense_6 (Dense)              (None, 10)                5130      \n",
      "=================================================================\n",
      "Total params: 6,467,402\n",
      "Trainable params: 6,467,146\n",
      "Non-trainable params: 256\n",
      "_________________________________________________________________\n",
      "Train on 40000 samples, validate on 10000 samples\n",
      "Epoch 1/20\n",
      "40000/40000 [==============================] - 10s 240us/step - loss: 1.8251 - acc: 0.3985 - val_loss: 1.6067 - val_acc: 0.5039\n",
      "Epoch 2/20\n",
      "40000/40000 [==============================] - 9s 226us/step - loss: 1.3561 - acc: 0.5198 - val_loss: 1.1225 - val_acc: 0.6113\n",
      "Epoch 3/20\n",
      "40000/40000 [==============================] - 9s 226us/step - loss: 1.1983 - acc: 0.5804 - val_loss: 1.0402 - val_acc: 0.6390\n",
      "Epoch 4/20\n",
      "40000/40000 [==============================] - 9s 227us/step - loss: 1.0983 - acc: 0.6151 - val_loss: 0.9703 - val_acc: 0.6654\n",
      "Epoch 5/20\n",
      "40000/40000 [==============================] - 9s 236us/step - loss: 1.0081 - acc: 0.6472 - val_loss: 0.9256 - val_acc: 0.6806\n",
      "Epoch 6/20\n",
      "40000/40000 [==============================] - 10s 259us/step - loss: 0.9412 - acc: 0.6698 - val_loss: 0.9059 - val_acc: 0.6915\n",
      "Epoch 7/20\n",
      "40000/40000 [==============================] - 10s 247us/step - loss: 0.8755 - acc: 0.6961 - val_loss: 0.8751 - val_acc: 0.7031\n",
      "Epoch 8/20\n",
      "40000/40000 [==============================] - 10s 240us/step - loss: 0.8204 - acc: 0.7150 - val_loss: 0.8444 - val_acc: 0.7198\n",
      "Epoch 9/20\n",
      "40000/40000 [==============================] - 9s 229us/step - loss: 0.7683 - acc: 0.7343 - val_loss: 0.8383 - val_acc: 0.7151\n",
      "Epoch 10/20\n",
      "40000/40000 [==============================] - 9s 227us/step - loss: 0.7281 - acc: 0.7459 - val_loss: 0.8521 - val_acc: 0.7149\n",
      "Epoch 11/20\n",
      "40000/40000 [==============================] - 9s 228us/step - loss: 0.6761 - acc: 0.7650 - val_loss: 0.8234 - val_acc: 0.7201\n",
      "Epoch 12/20\n",
      "40000/40000 [==============================] - 9s 228us/step - loss: 0.6443 - acc: 0.7772 - val_loss: 0.8332 - val_acc: 0.7263\n",
      "Epoch 13/20\n",
      "40000/40000 [==============================] - 9s 227us/step - loss: 0.5957 - acc: 0.7922 - val_loss: 0.8077 - val_acc: 0.7326\n",
      "Epoch 14/20\n",
      "40000/40000 [==============================] - 9s 227us/step - loss: 0.5663 - acc: 0.8027 - val_loss: 0.8396 - val_acc: 0.7357\n",
      "Epoch 15/20\n",
      "40000/40000 [==============================] - 9s 227us/step - loss: 0.5419 - acc: 0.8130 - val_loss: 0.8525 - val_acc: 0.7271\n",
      "Epoch 16/20\n",
      "40000/40000 [==============================] - 9s 230us/step - loss: 0.5174 - acc: 0.8188 - val_loss: 0.8334 - val_acc: 0.7324\n",
      "Epoch 17/20\n",
      "40000/40000 [==============================] - 9s 227us/step - loss: 0.4920 - acc: 0.8306 - val_loss: 0.8137 - val_acc: 0.7379\n",
      "Epoch 18/20\n",
      "40000/40000 [==============================] - 9s 227us/step - loss: 0.4623 - acc: 0.8393 - val_loss: 0.8118 - val_acc: 0.7370\n",
      "Epoch 19/20\n",
      "40000/40000 [==============================] - 9s 227us/step - loss: 0.4475 - acc: 0.8432 - val_loss: 0.7972 - val_acc: 0.7425\n",
      "Epoch 20/20\n",
      "40000/40000 [==============================] - 9s 227us/step - loss: 0.4309 - acc: 0.8536 - val_loss: 0.7956 - val_acc: 0.7390\n"
     ]
    }
   ],
   "source": [
    "\n",
    "classifier=Sequential()\n",
    "\n",
    "#卷積組合\n",
    "classifier.add(Conv2D(64 ,(3,3), activation='relu', input_shape=(32,32,3)))#32,32,3,input_shape=(32,32,3),activation='relu''\n",
    "classifier.add(BatchNormalization())\n",
    "\n",
    "'''自己決定MaxPooling2D放在哪裡'''\n",
    "\n",
    "\n",
    "#卷積組合\n",
    "classifier.add(Conv2D(64 ,(3,3),activation='relu'))\n",
    "classifier.add(BatchNormalization())\n",
    "classifier.add(MaxPooling2D((2,2)))\n",
    "classifier.add(Dropout(0.5))\n",
    "#flatten\n",
    "classifier.add(Flatten())\n",
    "\n",
    "#FC\n",
    "classifier.add(Dense(512, activation='relu')) #output_dim=100,activation=relu\n",
    "classifier.add(Dropout(0.5))\n",
    "#輸出\n",
    "classifier.add(Dense(10,activation='softmax'))\n",
    "\n",
    "#超過兩個就要選categorical_crossentrophy\n",
    "classifier.compile(optimizer = 'Adam', loss = 'categorical_crossentropy', metrics = ['acc'])\n",
    "classifier.summary()\n",
    "history=classifier.fit(x_train,y_train,batch_size=100,epochs=20, validation_split=0.2 )"
   ]
  },
  {
   "cell_type": "code",
   "execution_count": 12,
   "metadata": {},
   "outputs": [
    {
     "data": {
      "image/png": "[encoded data removed]",
      "text/plain": [
       "<Figure size 432x288 with 1 Axes>"
      ]
     },
     "metadata": {
      "needs_background": "light"
     },
     "output_type": "display_data"
    }
   ],
   "source": [
    "import matplotlib.pyplot as plt\n",
    "\n",
    "\n",
    "history_dict = history.history\n",
    "acc = history_dict['acc']\n",
    "val_acc = history_dict['val_acc']\n",
    "epochs= range(1,len(acc)+1)\n",
    "plt.plot(epochs, acc,'bo',label='Training acc')\n",
    "plt.plot(epochs, val_acc,'b',label='Validation acc')\n",
    "plt.title('Traing and Validation accuracy')\n",
    "plt.xlabel('Epochs')\n",
    "plt.ylabel('Accuracy')\n",
    "plt.legend()\n",
    "plt.show()"
   ]
  },
  {
   "cell_type": "markdown",
   "metadata": {},
   "source": [
    "## 預測新圖片，輸入影像前處理要與訓練時相同\n",
    "#### ((X-mean)/(std+1e-7) ):這裡的mean跟std是訓練集的\n",
    "## 維度如下方示範"
   ]
  },
  {
   "cell_type": "code",
   "execution_count": 13,
   "metadata": {},
   "outputs": [
    {
     "data": {
      "text/plain": [
       "array([[1.6591160e-09, 1.4042177e-15, 8.5104335e-07, 5.7195141e-08,\n",
       "        9.9999905e-01, 4.2638844e-12, 3.8779820e-08, 4.4102366e-10,\n",
       "        3.0032052e-09, 1.4744782e-16]], dtype=float32)"
      ]
     },
     "execution_count": 13,
     "metadata": {},
     "output_type": "execute_result"
    }
   ],
   "source": [
    "input_example=(np.zeros(shape=(1,32,32,3))-mean_train)/(std_train+1e-7) \n",
    "classifier.predict(input_example)"
   ]
  },
  {
   "cell_type": "code",
   "execution_count": null,
   "metadata": {},
   "outputs": [],
   "source": []
  }
 ],
 "metadata": {
  "kernelspec": {
   "display_name": "Python 3",
   "language": "python",
   "name": "python3"
  },
  "language_info": {
   "codemirror_mode": {
    "name": "ipython",
    "version": 3
   },
   "file_extension": ".py",
   "mimetype": "text/x-python",
   "name": "python",
   "nbconvert_exporter": "python",
   "pygments_lexer": "ipython3",
   "version": "3.7.4"
  }
 },
 "nbformat": 4,
 "nbformat_minor": 2
}
